{
 "metadata": {
  "language_info": {
   "codemirror_mode": {
    "name": "ipython",
    "version": 3
   },
   "file_extension": ".py",
   "mimetype": "text/x-python",
   "name": "python",
   "nbconvert_exporter": "python",
   "pygments_lexer": "ipython3",
   "version": 3
  },
  "orig_nbformat": 2
 },
 "nbformat": 4,
 "nbformat_minor": 2,
 "cells": [
  {
   "cell_type": "code",
   "execution_count": null,
   "metadata": {},
   "outputs": [],
   "source": [
    "from numpy.core.fromnumeric import mean\n",
    "import pandas as pd #dataframe\n",
    "import numpy as np#dataframe\n",
    "import matplotlib.pyplot as plt\n",
    "from matplotlib.ticker import FormatStrFormatter\n",
    "import seaborn as sns"
   ]
  },
  {
   "cell_type": "code",
   "execution_count": null,
   "metadata": {},
   "outputs": [],
   "source": [
    "data_original = pd.read_csv('site_data_zap.csv',sep='\\t')\n",
    "print(data_original.shape)\n",
    "data = data_original.drop_duplicates()\n",
    "data = data.drop(columns=['link'])\n",
    "data = data.fillna(0)\n",
    "print(data.shape)\n",
    "data.insert(3,'total',data['rent'] + data['condominium'] + data['iptu'])\n",
    "print(data.shape)\n",
    "df = data.loc[(data['total'] <= 2500) & (data['area'] >= 5) & (data['area'] <= 250) & (data['room'] >= 1) & (data['bathroom'] >= 1) & (data['car_space'] <= 5)]\n",
    "print(df.shape)"
   ]
  },
  {
   "cell_type": "code",
   "execution_count": null,
   "metadata": {},
   "outputs": [],
   "source": [
    "sns.set_context('paper', font_scale=1.4)\n",
    "sns_plot = sns.jointplot(x='area', y='total', data=df, kind='scatter',xlim=(0,210),ylim=(250,2550))\n",
    "sns_plot.savefig(\"Figures/area_rent_01.jpeg\")\n",
    "\n",
    "sns.set_context('paper', font_scale=1.4)\n",
    "sns_plot = sns.jointplot(x='area', y='total', data=df, kind='hist',xlim=(0,210),ylim=(250,2550))\n",
    "sns_plot.savefig(\"Figures/area_rent_02.jpeg\")\n",
    "\n",
    "sns.set_context('paper', font_scale=1.4)\n",
    "sns_plot = sns.jointplot(x='area', y='total', data=df, kind='kde',xlim=(0,210),ylim=(250,2550),fill=True)\n",
    "sns_plot.savefig(\"Figures/area_rent_03.jpeg\")\n",
    "\n",
    "sns.set_context('paper', font_scale=1.4)\n",
    "sns_plot = sns.jointplot(x='area', y='total', data=df, kind='reg',xlim=(0,210),ylim=(250,2550))\n",
    "sns_plot.savefig(\"Figures/area_rent_04.jpeg\")\n",
    "\n",
    "sns.set_context('paper', font_scale=1.4)\n",
    "sns_plot = sns.jointplot(x='area', y='total', data=df, kind='hex',xlim=(0,210),ylim=(250,2550))\n",
    "sns_plot.savefig(\"Figures/area_rent_05.jpeg\")"
   ]
  },
  {
   "cell_type": "code",
   "execution_count": null,
   "metadata": {},
   "outputs": [],
   "source": [
    "g = sns.PairGrid(df, diag_sharey=False)\n",
    "g.map_upper(sns.scatterplot)\n",
    "g.map_lower(sns.kdeplot)\n",
    "g.map_diag(sns.kdeplot)\n",
    "g.savefig(\"Figures/pair_01.jpeg\")"
   ]
  },
  {
   "cell_type": "code",
   "execution_count": null,
   "metadata": {},
   "outputs": [],
   "source": [
    "fig, axes = plt.subplots(1,3,sharey=True,figsize=(10,6))\n",
    "\n",
    "g1 = sns.boxplot(y='area', x='room', data=df, ax=axes[0])\n",
    "g2 = sns.boxplot(y='area', x='bathroom', data=df, ax=axes[1])\n",
    "g3 = sns.boxplot(y='area', x='car_space', data=df, ax=axes[2])\n",
    "g1.grid(axis='y')\n",
    "g2.grid(axis='y')\n",
    "g3.grid(axis='y')\n",
    "# g1.xaxis.set_major_formatter(FormatStrFormatter('%g'))\n",
    "# g2.set(yticklabels=[])\n",
    "# g2.xaxis.set_major_formatter(FormatStrFormatter('%g'))\n",
    "# g2.set(ylabel=None)\n",
    "# g3.set(yticklabels=[])\n",
    "# g3.xaxis.set_major_formatter(FormatStrFormatter('%g'))\n",
    "# g3.set(ylabel=None)\n",
    "\n",
    "fig.show()\n",
    "fig.savefig(\"Figures/general_01.jpeg\")"
   ]
  },
  {
   "cell_type": "code",
   "execution_count": null,
   "metadata": {},
   "outputs": [],
   "source": [
    "fig, axes = plt.subplots(1,3,sharey=True,figsize=(10,6))\n",
    "\n",
    "g1 = sns.boxplot(y='total', x='room', data=df, ax=axes[0])\n",
    "g2 = sns.boxplot(y='total', x='bathroom', data=df, ax=axes[1])\n",
    "g3 = sns.boxplot(y='total', x='car_space', data=df, ax=axes[2])\n",
    "g1.grid(axis='y')\n",
    "g2.grid(axis='y')\n",
    "g3.grid(axis='y')\n",
    "# g2.set(yticklabels=[])\n",
    "# g2.xaxis.set_major_formatter(FormatStrFormatter('%g'))\n",
    "g2.set(ylabel=None)\n",
    "# g3.set(yticklabels=[])\n",
    "# g3.xaxis.set_major_formatter(FormatStrFormatter('%g'))\n",
    "g3.set(ylabel=None)\n",
    "\n",
    "fig.show()\n",
    "fig.savefig(\"Figures/general_02.jpeg\")"
   ]
  }
 ]
}